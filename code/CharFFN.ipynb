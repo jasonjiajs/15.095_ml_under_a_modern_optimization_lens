{
  "cells": [
    {
      "cell_type": "markdown",
      "id": "c930d69b",
      "metadata": {},
      "source": [
        "# CharFFN: next character prediction using fixed-context window feedforward networks"
      ]
    },
    {
      "cell_type": "code",
      "execution_count": 1,
      "id": "125af93c-648b-4394-a8fc-80d6f82d0a8a",
      "metadata": {
        "id": "125af93c-648b-4394-a8fc-80d6f82d0a8a"
      },
      "outputs": [],
      "source": [
        "import numpy as np\n",
        "import pandas as pd\n",
        "import json\n",
        "import xgboost as xgb\n",
        "from sklearn.model_selection import train_test_split\n",
        "from sklearn.metrics import accuracy_score\n",
        "import time\n",
        "import math\n",
        "import os\n",
        "from tempfile import TemporaryDirectory\n",
        "from typing import Tuple\n",
        "import torch\n",
        "from torch import nn, Tensor\n",
        "from torch.nn import TransformerEncoder, TransformerEncoderLayer\n",
        "from torch.utils.data import dataset\n",
        "import torch.nn.functional as F"
      ]
    },
    {
      "cell_type": "markdown",
      "id": "46e49efb",
      "metadata": {},
      "source": [
        "# Preprocess data"
      ]
    },
    {
      "cell_type": "code",
      "execution_count": 2,
      "id": "5e0fe960-0a13-41a5-950d-7f0bac62b182",
      "metadata": {
        "id": "5e0fe960-0a13-41a5-950d-7f0bac62b182"
      },
      "outputs": [],
      "source": [
        "file_path = \"../data/alpaca_data_cleaned.json\"\n",
        "context_length = 10"
      ]
    },
    {
      "cell_type": "code",
      "execution_count": 3,
      "id": "55607749-deef-492d-8913-6f03363170af",
      "metadata": {
        "colab": {
          "base_uri": "https://localhost:8080/"
        },
        "id": "55607749-deef-492d-8913-6f03363170af",
        "outputId": "ce70f6f6-b69d-4a22-d19d-5d61ffd8f084"
      },
      "outputs": [
        {
          "name": "stdout",
          "output_type": "stream",
          "text": [
            "Number of training examples: 38471521\n",
            "Example input shape: (330,)\n",
            "output shape: (38471521, 33)\n"
          ]
        }
      ],
      "source": [
        "def read_json(file_path):\n",
        "    with open(file_path, 'r') as f:\n",
        "        return json.load(f)\n",
        "\n",
        "def preprocess_data(data):\n",
        "    sequences = []\n",
        "    for item in data:\n",
        "        sequence = list(item['instruction']) + ['\\n'] + list(item['input']) + ['\\n'] + list(item['output']) + ['[EOS]']\n",
        "        sequences.append(sequence)\n",
        "    return sequences\n",
        "\n",
        "valid_chars = list('abcdefghijklmnopqrstuvwxyz ?!.,\\n')\n",
        "def preprocess_data_simple(data):\n",
        "    sequences = []\n",
        "    for item in data:\n",
        "        instruction_alpha = ''.join([char for char in item['instruction'].lower() if char in valid_chars])\n",
        "        input_alpha = ''.join([char for char in item['input'].lower() if char in valid_chars])\n",
        "        output_alpha = ''.join([char for char in item['output'].lower() if char in valid_chars])\n",
        "\n",
        "        sequence = list(instruction_alpha) + ['\\n'] + list(input_alpha) + ['\\n'] + list(output_alpha) + ['[EOS]']\n",
        "        sequences.append(sequence)\n",
        "    return sequences\n",
        "\n",
        "def create_vocab(sequences):\n",
        "    chars = [char for seq in sequences for char in seq]\n",
        "    return sorted(set(chars))\n",
        "\n",
        "def one_hot_encode(sequence, char_to_idx):\n",
        "    one_hot = np.zeros((len(sequence), len(char_to_idx)), dtype=np.int32)\n",
        "    for i, char in enumerate(sequence):\n",
        "        one_hot[i, char_to_idx[char]] = 1\n",
        "    return one_hot\n",
        "\n",
        "def numerical_encode(sequence, char_to_idx):\n",
        "    numerical_encoding = np.zeros(len(sequence), dtype=np.int32)\n",
        "    for i, char in enumerate(sequence):\n",
        "        numerical_encoding[i] = char_to_idx[char]\n",
        "    return numerical_encoding\n",
        "\n",
        "def create_training_examples(sequences, char_to_idx, input_length=10):\n",
        "    x = []\n",
        "    y = []\n",
        "\n",
        "    for seq in sequences:\n",
        "        encoded_seq = one_hot_encode(seq, char_to_idx)\n",
        "        numerical_encode_seq = numerical_encode(seq, char_to_idx)\n",
        "        total_chars = len(seq)\n",
        "\n",
        "        for i in range(total_chars - input_length):\n",
        "            x.append(encoded_seq[i:i+input_length])\n",
        "            y.append(encoded_seq[i+input_length])\n",
        "\n",
        "    return np.array(x), np.array(y)\n",
        "\n",
        "# Main script\n",
        "data = read_json(file_path)\n",
        "#sequences = preprocess_data(data)\n",
        "sequences = preprocess_data_simple(data)\n",
        "\n",
        "vocab = create_vocab(sequences)\n",
        "char_to_idx = {char: idx for idx, char in enumerate(vocab)}\n",
        "idx_to_char = {idx: char for char, idx in char_to_idx.items()}\n",
        "\n",
        "X, Y = create_training_examples(sequences, char_to_idx, input_length=context_length)\n",
        "X = X.reshape(X.shape[0], -1)\n",
        "\n",
        "print(f\"Number of training examples: {X.shape[0]}\")\n",
        "print(f\"Example input shape: {X[0].shape}\")\n",
        "print(f\"output shape: {Y.shape}\")"
      ]
    },
    {
      "cell_type": "code",
      "execution_count": 4,
      "id": "423ddce1",
      "metadata": {},
      "outputs": [
        {
          "data": {
            "text/plain": [
              "{0: '\\n',\n",
              " 1: ' ',\n",
              " 2: '!',\n",
              " 3: ',',\n",
              " 4: '.',\n",
              " 5: '?',\n",
              " 6: '[EOS]',\n",
              " 7: 'a',\n",
              " 8: 'b',\n",
              " 9: 'c',\n",
              " 10: 'd',\n",
              " 11: 'e',\n",
              " 12: 'f',\n",
              " 13: 'g',\n",
              " 14: 'h',\n",
              " 15: 'i',\n",
              " 16: 'j',\n",
              " 17: 'k',\n",
              " 18: 'l',\n",
              " 19: 'm',\n",
              " 20: 'n',\n",
              " 21: 'o',\n",
              " 22: 'p',\n",
              " 23: 'q',\n",
              " 24: 'r',\n",
              " 25: 's',\n",
              " 26: 't',\n",
              " 27: 'u',\n",
              " 28: 'v',\n",
              " 29: 'w',\n",
              " 30: 'x',\n",
              " 31: 'y',\n",
              " 32: 'z'}"
            ]
          },
          "execution_count": 4,
          "metadata": {},
          "output_type": "execute_result"
        }
      ],
      "source": [
        "idx_to_char"
      ]
    },
    {
      "cell_type": "code",
      "execution_count": 5,
      "id": "013f2358",
      "metadata": {},
      "outputs": [
        {
          "data": {
            "text/plain": [
              "(array([3.945100e+05, 6.227787e+06, 4.750000e+03, 3.807990e+05,\n",
              "        4.083120e+05, 1.256700e+04, 5.176000e+04, 2.590824e+06,\n",
              "        4.096430e+05, 1.159261e+06, 1.129321e+06, 3.831490e+06,\n",
              "        6.649500e+05, 6.935500e+05, 1.278740e+06, 2.360896e+06,\n",
              "        4.016400e+04, 1.965220e+05, 1.266667e+06, 7.919590e+05,\n",
              "        2.335505e+06, 2.292594e+06, 7.370610e+05, 4.028500e+04,\n",
              "        1.957172e+06, 2.098974e+06, 2.790468e+06, 8.918070e+05,\n",
              "        3.712270e+05, 4.328260e+05, 8.453700e+04, 5.445930e+05]),\n",
              " array([ 0.,  1.,  2.,  3.,  4.,  5.,  6.,  7.,  8.,  9., 10., 11., 12.,\n",
              "        13., 14., 15., 16., 17., 18., 19., 20., 21., 22., 23., 24., 25.,\n",
              "        26., 27., 28., 29., 30., 31., 32.]),\n",
              " <BarContainer object of 32 artists>)"
            ]
          },
          "execution_count": 5,
          "metadata": {},
          "output_type": "execute_result"
        },
        {
          "data": {
            "image/png": "[encoded data removed]",
            "text/plain": [
              "<Figure size 640x480 with 1 Axes>"
            ]
          },
          "metadata": {},
          "output_type": "display_data"
        }
      ],
      "source": [
        "import matplotlib.pyplot as plt\n",
        "plt.hist(np.argmax(Y, 1), bins=range(len(char_to_idx)))"
      ]
    },
    {
      "cell_type": "code",
      "execution_count": 6,
      "id": "AGWT8b5YeCNx",
      "metadata": {
        "colab": {
          "base_uri": "https://localhost:8080/"
        },
        "id": "AGWT8b5YeCNx",
        "outputId": "ceab3061-a515-4eda-d00a-7f89b26c33ae"
      },
      "outputs": [
        {
          "data": {
            "text/plain": [
              "((38471521, 330), (38471521, 33))"
            ]
          },
          "execution_count": 6,
          "metadata": {},
          "output_type": "execute_result"
        }
      ],
      "source": [
        "X.shape, Y.shape"
      ]
    },
    {
      "cell_type": "code",
      "execution_count": 7,
      "id": "bd4b9a97",
      "metadata": {},
      "outputs": [
        {
          "data": {
            "text/plain": [
              "((1000000, 330), (1000000, 33))"
            ]
          },
          "execution_count": 7,
          "metadata": {},
          "output_type": "execute_result"
        }
      ],
      "source": [
        "# To limit size of large dataset\n",
        "X = X[:1000000, :]\n",
        "Y = Y[:1000000, :]\n",
        "X.shape, Y.shape"
      ]
    },
    {
      "cell_type": "code",
      "execution_count": 8,
      "id": "ytteIh2vhrtQ",
      "metadata": {
        "id": "ytteIh2vhrtQ"
      },
      "outputs": [],
      "source": [
        "# Split the data\n",
        "X_train, X_test, Y_train, Y_test = train_test_split(X, Y, test_size=0.2)"
      ]
    },
    {
      "cell_type": "markdown",
      "id": "XLykUMHL9Cfa",
      "metadata": {
        "id": "XLykUMHL9Cfa"
      },
      "source": [
        "# Model"
      ]
    },
    {
      "cell_type": "code",
      "execution_count": 9,
      "id": "79a26f21",
      "metadata": {},
      "outputs": [
        {
          "name": "stderr",
          "output_type": "stream",
          "text": [
            "Epoch 1/10: 100%|██████████| 100000/100000 [01:29<00:00, 1116.33it/s]\n"
          ]
        },
        {
          "name": "stdout",
          "output_type": "stream",
          "text": [
            "Epoch 1/10, Loss: 2.115755740480721, Accuracy: 37.00%\n"
          ]
        },
        {
          "name": "stderr",
          "output_type": "stream",
          "text": [
            "Epoch 2/10: 100%|██████████| 100000/100000 [00:57<00:00, 1729.55it/s]\n"
          ]
        },
        {
          "name": "stdout",
          "output_type": "stream",
          "text": [
            "Epoch 2/10, Loss: 1.9800605655241013, Accuracy: 40.88%\n"
          ]
        },
        {
          "name": "stderr",
          "output_type": "stream",
          "text": [
            "Epoch 3/10: 100%|██████████| 100000/100000 [01:24<00:00, 1177.94it/s]\n"
          ]
        },
        {
          "name": "stdout",
          "output_type": "stream",
          "text": [
            "Epoch 3/10, Loss: 1.9479101510062813, Accuracy: 41.94%\n"
          ]
        },
        {
          "name": "stderr",
          "output_type": "stream",
          "text": [
            "Epoch 4/10: 100%|██████████| 100000/100000 [00:56<00:00, 1767.98it/s]\n"
          ]
        },
        {
          "name": "stdout",
          "output_type": "stream",
          "text": [
            "Epoch 4/10, Loss: 1.9327405027657747, Accuracy: 42.42%\n"
          ]
        },
        {
          "name": "stderr",
          "output_type": "stream",
          "text": [
            "Epoch 5/10: 100%|██████████| 100000/100000 [01:10<00:00, 1417.16it/s]\n"
          ]
        },
        {
          "name": "stdout",
          "output_type": "stream",
          "text": [
            "Epoch 5/10, Loss: 1.9247196085721254, Accuracy: 42.61%\n"
          ]
        },
        {
          "name": "stderr",
          "output_type": "stream",
          "text": [
            "Epoch 6/10: 100%|██████████| 100000/100000 [01:59<00:00, 836.81it/s]\n"
          ]
        },
        {
          "name": "stdout",
          "output_type": "stream",
          "text": [
            "Epoch 6/10, Loss: 1.9193334785673022, Accuracy: 42.82%\n"
          ]
        },
        {
          "name": "stderr",
          "output_type": "stream",
          "text": [
            "Epoch 7/10: 100%|██████████| 100000/100000 [02:46<00:00, 601.03it/s]\n"
          ]
        },
        {
          "name": "stdout",
          "output_type": "stream",
          "text": [
            "Epoch 7/10, Loss: 1.9157472554713488, Accuracy: 42.93%\n"
          ]
        },
        {
          "name": "stderr",
          "output_type": "stream",
          "text": [
            "Epoch 8/10: 100%|██████████| 100000/100000 [01:27<00:00, 1140.13it/s]\n"
          ]
        },
        {
          "name": "stdout",
          "output_type": "stream",
          "text": [
            "Epoch 8/10, Loss: 1.913881583392024, Accuracy: 43.03%\n"
          ]
        },
        {
          "name": "stderr",
          "output_type": "stream",
          "text": [
            "Epoch 9/10: 100%|██████████| 100000/100000 [01:02<00:00, 1609.34it/s]\n"
          ]
        },
        {
          "name": "stdout",
          "output_type": "stream",
          "text": [
            "Epoch 9/10, Loss: 1.9129960120263696, Accuracy: 43.04%\n"
          ]
        },
        {
          "name": "stderr",
          "output_type": "stream",
          "text": [
            "Epoch 10/10: 100%|██████████| 100000/100000 [01:29<00:00, 1121.05it/s]"
          ]
        },
        {
          "name": "stdout",
          "output_type": "stream",
          "text": [
            "Epoch 10/10, Loss: 1.9129467388671637, Accuracy: 43.14%\n",
            "Training took 884.440655708313 seconds.\n"
          ]
        },
        {
          "name": "stderr",
          "output_type": "stream",
          "text": [
            "\n"
          ]
        }
      ],
      "source": [
        "import torch\n",
        "import torch.nn as nn\n",
        "import torch.optim as optim\n",
        "from torch.utils.data import DataLoader, TensorDataset\n",
        "from tqdm import tqdm\n",
        "\n",
        "class FixedContextWindowFeedforward(nn.Module):\n",
        "    def __init__(self, input_size, hidden_size_1, hidden_size_2, output_size):\n",
        "        super(FixedContextWindowFeedforward, self).__init__()\n",
        "        self.fc1 = nn.Linear(input_size, hidden_size_1)\n",
        "        self.relu = nn.ReLU()\n",
        "        self.fc2 = nn.Linear(hidden_size_1, hidden_size_2)\n",
        "        self.relu = nn.ReLU()\n",
        "        self.fc3 = nn.Linear(hidden_size_2, output_size)\n",
        "\n",
        "    def forward(self, x):\n",
        "        x = self.fc1(x)\n",
        "        x = self.relu(x)\n",
        "        x = self.fc2(x)\n",
        "        x = self.relu(x)\n",
        "        x = self.fc3(x)\n",
        "        return x\n",
        "\n",
        "# Assuming you have a dataset and DataLoader for training and testing\n",
        "# Convert data to PyTorch tensors\n",
        "X_train_tensor = torch.tensor(X_train, dtype=torch.float)\n",
        "Y_train_tensor = torch.tensor(Y_train, dtype=torch.float)  # Assuming Y_train contains class indices\n",
        "X_test_tensor = torch.tensor(X_test, dtype=torch.float)\n",
        "Y_test_tensor = torch.tensor(Y_test, dtype=torch.float)\n",
        "\n",
        "# Create PyTorch datasets\n",
        "train_dataset = TensorDataset(X_train_tensor, Y_train_tensor)\n",
        "test_dataset = TensorDataset(X_test_tensor, Y_test_tensor)\n",
        "\n",
        "# Define parameters\n",
        "input_size = 330 # Set manually: 320 for small, 330 for medium/large\n",
        "context_size = 10\n",
        "hidden_size_1 = 8\n",
        "hidden_size_2 = 128\n",
        "output_size = 33 # Set manually: 32 for small, 33 for medium/large\n",
        "batch_size = 8\n",
        "num_epochs = 10\n",
        "\n",
        "# Define DataLoader\n",
        "train_loader = DataLoader(train_dataset, batch_size=batch_size, shuffle=True)\n",
        "test_loader = DataLoader(test_dataset, batch_size=batch_size, shuffle=False)\n",
        "\n",
        "# Define the model, loss function, and optimizer\n",
        "model = FixedContextWindowFeedforward(input_size, hidden_size_1, hidden_size_2, output_size)\n",
        "criterion = nn.CrossEntropyLoss()\n",
        "optimizer = optim.Adam(model.parameters(), lr=0.001)\n",
        "\n",
        "# Train the model over multiple epochs\n",
        "start_time = time.time()  # Record the start time\n",
        "for epoch in range(num_epochs):\n",
        "    total_loss = 0.0\n",
        "    total_correct = 0\n",
        "    total_samples = 0\n",
        "    model.train()  # Set the model to training mode\n",
        "\n",
        "    for batch_data, batch_labels in tqdm(train_loader, desc=f'Epoch {epoch + 1}/{num_epochs}'):\n",
        "        optimizer.zero_grad()  # Zero the gradients\n",
        "        outputs = model(batch_data)\n",
        "\n",
        "        # Calculate loss\n",
        "        loss = criterion(outputs, batch_labels)\n",
        "        loss.backward()  # Backward pass\n",
        "        optimizer.step()  # Update weights\n",
        "        total_loss += loss.item()\n",
        "\n",
        "        # Calculate accuracy\n",
        "        predicted_chars = torch.argmax(outputs, dim=1)\n",
        "        true_chars = torch.argmax(batch_labels, dim=1)\n",
        "\n",
        "        total_samples += batch_labels.size(0)\n",
        "        total_correct += (predicted_chars == true_chars).sum().item()\n",
        "\n",
        "    # Print training loss and accuracy\n",
        "    average_loss = total_loss / len(train_loader)\n",
        "    accuracy = total_correct / total_samples\n",
        "    print(f'Epoch {epoch + 1}/{num_epochs}, Loss: {average_loss}, Accuracy: {accuracy * 100:.2f}%')\n",
        "\n",
        "# Get training time\n",
        "end_time = time.time()  # Record the end time\n",
        "elapsed_time = end_time - start_time\n",
        "print(f'Training took {elapsed_time} seconds.')\n",
        "\n",
        "# Save the trained model\n",
        "torch.save(model.state_dict(), f'model/char_ffn_embed_{hidden_size_1}_epoch_{num_epochs}_datasetsize_{X.shape[0]}.pth')"
      ]
    },
    {
      "cell_type": "code",
      "execution_count": 10,
      "id": "7b401537",
      "metadata": {},
      "outputs": [
        {
          "name": "stdout",
          "output_type": "stream",
          "text": [
            "Test Accuracy: 43.56%\n"
          ]
        }
      ],
      "source": [
        "# Load the model back\n",
        "model = FixedContextWindowFeedforward(input_size, hidden_size_1, hidden_size_2, output_size)\n",
        "model.load_state_dict(torch.load(f'model/char_ffn_embed_{hidden_size_1}_epoch_{num_epochs}_datasetsize_{X.shape[0]}.pth'))\n",
        "model.eval()  # Set the model to evaluation mode\n",
        "\n",
        "# Test the model\n",
        "test_loss = 0.0\n",
        "total_samples = 0\n",
        "correct_predictions = 0\n",
        "\n",
        "with torch.no_grad():\n",
        "    for test_data, test_labels in test_loader:\n",
        "        # Calculate loss\n",
        "        test_outputs = model(test_data)\n",
        "        test_loss += criterion(test_outputs, test_labels).item()\n",
        "        \n",
        "        # Calculate accuracy\n",
        "        predicted_chars = torch.argmax(test_outputs, dim=1)\n",
        "        true_chars = torch.argmax(test_labels, dim=1)\n",
        "\n",
        "        total_samples += test_labels.size(0)\n",
        "        correct_predictions += (predicted_chars == true_chars).sum().item()\n",
        "        \n",
        "# Calculate accuracy\n",
        "test_accuracy = correct_predictions / total_samples\n",
        "average_test_loss = test_loss / len(test_loader)\n",
        "print(f'Test Accuracy: {test_accuracy * 100:.2f}%')"
      ]
    },
    {
      "cell_type": "code",
      "execution_count": null,
      "id": "ad8873e7-d9a1-4406-88be-74a503c89b1c",
      "metadata": {
        "id": "ad8873e7-d9a1-4406-88be-74a503c89b1c"
      },
      "outputs": [],
      "source": []
    }
  ],
  "metadata": {
    "accelerator": "GPU",
    "colab": {
      "gpuType": "T4",
      "provenance": []
    },
    "kernelspec": {
      "display_name": "Python 3",
      "name": "python3"
    },
    "language_info": {
      "codemirror_mode": {
        "name": "ipython",
        "version": 3
      },
      "file_extension": ".py",
      "mimetype": "text/x-python",
      "name": "python",
      "nbconvert_exporter": "python",
      "pygments_lexer": "ipython3",
      "version": "3.11.4"
    }
  },
  "nbformat": 4,
  "nbformat_minor": 5
}
