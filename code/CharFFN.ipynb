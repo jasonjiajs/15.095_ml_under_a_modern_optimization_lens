{
  "cells": [
    {
      "cell_type": "markdown",
      "id": "c930d69b",
      "metadata": {},
      "source": [
        "# CharFFN: next character prediction using fixed-context window feedforward networks"
      ]
    },
    {
      "cell_type": "code",
      "execution_count": 1,
      "id": "125af93c-648b-4394-a8fc-80d6f82d0a8a",
      "metadata": {
        "id": "125af93c-648b-4394-a8fc-80d6f82d0a8a"
      },
      "outputs": [],
      "source": [
        "import numpy as np\n",
        "import pandas as pd\n",
        "import json\n",
        "import xgboost as xgb\n",
        "from sklearn.model_selection import train_test_split\n",
        "from sklearn.metrics import accuracy_score\n",
        "import time\n",
        "import math\n",
        "import os\n",
        "from tempfile import TemporaryDirectory\n",
        "from typing import Tuple\n",
        "import torch\n",
        "from torch import nn, Tensor\n",
        "from torch.nn import TransformerEncoder, TransformerEncoderLayer\n",
        "from torch.utils.data import dataset\n",
        "import torch.nn.functional as F"
      ]
    },
    {
      "cell_type": "markdown",
      "id": "46e49efb",
      "metadata": {},
      "source": [
        "# Preprocess data"
      ]
    },
    {
      "cell_type": "code",
      "execution_count": 2,
      "id": "5e0fe960-0a13-41a5-950d-7f0bac62b182",
      "metadata": {
        "id": "5e0fe960-0a13-41a5-950d-7f0bac62b182"
      },
      "outputs": [],
      "source": [
        "file_path = \"../data/alpaca_data_cleaned_subset.json\"\n",
        "context_length = 10"
      ]
    },
    {
      "cell_type": "code",
      "execution_count": 3,
      "id": "55607749-deef-492d-8913-6f03363170af",
      "metadata": {
        "colab": {
          "base_uri": "https://localhost:8080/"
        },
        "id": "55607749-deef-492d-8913-6f03363170af",
        "outputId": "ce70f6f6-b69d-4a22-d19d-5d61ffd8f084"
      },
      "outputs": [
        {
          "name": "stdout",
          "output_type": "stream",
          "text": [
            "Number of training examples: 19237\n",
            "Example input shape: (320,)\n",
            "output shape: (19237, 32)\n"
          ]
        }
      ],
      "source": [
        "def read_json(file_path):\n",
        "    with open(file_path, 'r') as f:\n",
        "        return json.load(f)\n",
        "\n",
        "def preprocess_data(data):\n",
        "    sequences = []\n",
        "    for item in data:\n",
        "        sequence = list(item['instruction']) + ['\\n'] + list(item['input']) + ['\\n'] + list(item['output']) + ['[EOS]']\n",
        "        sequences.append(sequence)\n",
        "    return sequences\n",
        "\n",
        "valid_chars = list('abcdefghijklmnopqrstuvwxyz ?!.,\\n')\n",
        "def preprocess_data_simple(data):\n",
        "    sequences = []\n",
        "    for item in data:\n",
        "        instruction_alpha = ''.join([char for char in item['instruction'].lower() if char in valid_chars])\n",
        "        input_alpha = ''.join([char for char in item['input'].lower() if char in valid_chars])\n",
        "        output_alpha = ''.join([char for char in item['output'].lower() if char in valid_chars])\n",
        "\n",
        "        sequence = list(instruction_alpha) + ['\\n'] + list(input_alpha) + ['\\n'] + list(output_alpha) + ['[EOS]']\n",
        "        sequences.append(sequence)\n",
        "    return sequences\n",
        "\n",
        "def create_vocab(sequences):\n",
        "    chars = [char for seq in sequences for char in seq]\n",
        "    return sorted(set(chars))\n",
        "\n",
        "def one_hot_encode(sequence, char_to_idx):\n",
        "    one_hot = np.zeros((len(sequence), len(char_to_idx)), dtype=np.int32)\n",
        "    for i, char in enumerate(sequence):\n",
        "        one_hot[i, char_to_idx[char]] = 1\n",
        "    return one_hot\n",
        "\n",
        "def numerical_encode(sequence, char_to_idx):\n",
        "    numerical_encoding = np.zeros(len(sequence), dtype=np.int32)\n",
        "    for i, char in enumerate(sequence):\n",
        "        numerical_encoding[i] = char_to_idx[char]\n",
        "    return numerical_encoding\n",
        "\n",
        "def create_training_examples(sequences, char_to_idx, input_length=10):\n",
        "    x = []\n",
        "    y = []\n",
        "\n",
        "    for seq in sequences:\n",
        "        encoded_seq = one_hot_encode(seq, char_to_idx)\n",
        "        numerical_encode_seq = numerical_encode(seq, char_to_idx)\n",
        "        total_chars = len(seq)\n",
        "\n",
        "        for i in range(total_chars - input_length):\n",
        "            x.append(encoded_seq[i:i+input_length])\n",
        "            y.append(encoded_seq[i+input_length])\n",
        "\n",
        "    return np.array(x), np.array(y)\n",
        "\n",
        "# Main script\n",
        "data = read_json(file_path)\n",
        "#sequences = preprocess_data(data)\n",
        "sequences = preprocess_data_simple(data)\n",
        "\n",
        "vocab = create_vocab(sequences)\n",
        "char_to_idx = {char: idx for idx, char in enumerate(vocab)}\n",
        "idx_to_char = {idx: char for char, idx in char_to_idx.items()}\n",
        "\n",
        "X, Y = create_training_examples(sequences, char_to_idx, input_length=context_length)\n",
        "X = X.reshape(X.shape[0], -1)\n",
        "\n",
        "print(f\"Number of training examples: {X.shape[0]}\")\n",
        "print(f\"Example input shape: {X[0].shape}\")\n",
        "print(f\"output shape: {Y.shape}\")"
      ]
    },
    {
      "cell_type": "code",
      "execution_count": 4,
      "id": "423ddce1",
      "metadata": {},
      "outputs": [
        {
          "data": {
            "text/plain": [
              "{0: '\\n',\n",
              " 1: ' ',\n",
              " 2: ',',\n",
              " 3: '.',\n",
              " 4: '?',\n",
              " 5: '[EOS]',\n",
              " 6: 'a',\n",
              " 7: 'b',\n",
              " 8: 'c',\n",
              " 9: 'd',\n",
              " 10: 'e',\n",
              " 11: 'f',\n",
              " 12: 'g',\n",
              " 13: 'h',\n",
              " 14: 'i',\n",
              " 15: 'j',\n",
              " 16: 'k',\n",
              " 17: 'l',\n",
              " 18: 'm',\n",
              " 19: 'n',\n",
              " 20: 'o',\n",
              " 21: 'p',\n",
              " 22: 'q',\n",
              " 23: 'r',\n",
              " 24: 's',\n",
              " 25: 't',\n",
              " 26: 'u',\n",
              " 27: 'v',\n",
              " 28: 'w',\n",
              " 29: 'x',\n",
              " 30: 'y',\n",
              " 31: 'z'}"
            ]
          },
          "execution_count": 4,
          "metadata": {},
          "output_type": "execute_result"
        }
      ],
      "source": [
        "idx_to_char"
      ]
    },
    {
      "cell_type": "code",
      "execution_count": 5,
      "id": "013f2358",
      "metadata": {},
      "outputs": [
        {
          "data": {
            "text/plain": [
              "(array([ 157., 3147.,  194.,  184.,    6.,   24., 1326.,  249.,  634.,\n",
              "         630., 1818.,  343.,  291.,  628., 1167.,   21.,   79.,  623.,\n",
              "         483., 1170., 1174.,  360.,    9.,  998., 1042., 1371.,  497.,\n",
              "         156.,  229.,   25.,  202.]),\n",
              " array([ 0.,  1.,  2.,  3.,  4.,  5.,  6.,  7.,  8.,  9., 10., 11., 12.,\n",
              "        13., 14., 15., 16., 17., 18., 19., 20., 21., 22., 23., 24., 25.,\n",
              "        26., 27., 28., 29., 30., 31.]),\n",
              " <BarContainer object of 31 artists>)"
            ]
          },
          "execution_count": 5,
          "metadata": {},
          "output_type": "execute_result"
        },
        {
          "data": {
            "image/png": "[encoded data removed]",
            "text/plain": [
              "<Figure size 640x480 with 1 Axes>"
            ]
          },
          "metadata": {},
          "output_type": "display_data"
        }
      ],
      "source": [
        "import matplotlib.pyplot as plt\n",
        "plt.hist(np.argmax(Y, 1), bins=range(len(char_to_idx)))"
      ]
    },
    {
      "cell_type": "code",
      "execution_count": 6,
      "id": "AGWT8b5YeCNx",
      "metadata": {
        "colab": {
          "base_uri": "https://localhost:8080/"
        },
        "id": "AGWT8b5YeCNx",
        "outputId": "ceab3061-a515-4eda-d00a-7f89b26c33ae"
      },
      "outputs": [
        {
          "data": {
            "text/plain": [
              "((19237, 320), (19237, 32))"
            ]
          },
          "execution_count": 6,
          "metadata": {},
          "output_type": "execute_result"
        }
      ],
      "source": [
        "X.shape, Y.shape"
      ]
    },
    {
      "cell_type": "code",
      "execution_count": 7,
      "id": "ytteIh2vhrtQ",
      "metadata": {
        "id": "ytteIh2vhrtQ"
      },
      "outputs": [],
      "source": [
        "# Split the data\n",
        "X_train, X_test, Y_train, Y_test = train_test_split(X, Y, test_size=0.2)"
      ]
    },
    {
      "cell_type": "markdown",
      "id": "XLykUMHL9Cfa",
      "metadata": {
        "id": "XLykUMHL9Cfa"
      },
      "source": [
        "# Model"
      ]
    },
    {
      "cell_type": "code",
      "execution_count": 9,
      "id": "79a26f21",
      "metadata": {},
      "outputs": [
        {
          "name": "stdout",
          "output_type": "stream",
          "text": [
            "Epoch 1/100, Loss: 2.6657725512485744, Accuracy: 23.49%\n",
            "Epoch 2/100, Loss: 2.3457220008368305, Accuracy: 30.98%\n",
            "Epoch 3/100, Loss: 2.2460010374534156, Accuracy: 33.52%\n",
            "Epoch 4/100, Loss: 2.1908081527063605, Accuracy: 34.72%\n",
            "Epoch 5/100, Loss: 2.150051965535059, Accuracy: 36.20%\n",
            "Epoch 6/100, Loss: 2.1221996212141927, Accuracy: 36.90%\n",
            "Epoch 7/100, Loss: 2.0947902401804677, Accuracy: 37.62%\n",
            "Epoch 8/100, Loss: 2.070237559272197, Accuracy: 38.41%\n",
            "Epoch 9/100, Loss: 2.0496124307046064, Accuracy: 38.50%\n",
            "Epoch 10/100, Loss: 2.0304264656409403, Accuracy: 39.11%\n",
            "Epoch 11/100, Loss: 2.0137733603961254, Accuracy: 39.65%\n",
            "Epoch 12/100, Loss: 1.9968146289894337, Accuracy: 39.77%\n",
            "Epoch 13/100, Loss: 1.9817126468908266, Accuracy: 40.39%\n",
            "Epoch 14/100, Loss: 1.9692009489154618, Accuracy: 40.55%\n",
            "Epoch 15/100, Loss: 1.9568612754902572, Accuracy: 40.90%\n",
            "Epoch 16/100, Loss: 1.9434013632813512, Accuracy: 41.06%\n",
            "Epoch 17/100, Loss: 1.934162056480153, Accuracy: 41.60%\n",
            "Epoch 18/100, Loss: 1.920917252895738, Accuracy: 42.02%\n",
            "Epoch 19/100, Loss: 1.9112393624011792, Accuracy: 42.11%\n",
            "Epoch 20/100, Loss: 1.8995002179780274, Accuracy: 42.35%\n",
            "Epoch 21/100, Loss: 1.8912211591978083, Accuracy: 42.40%\n",
            "Epoch 22/100, Loss: 1.8817579295493956, Accuracy: 42.80%\n",
            "Epoch 23/100, Loss: 1.8726000169644486, Accuracy: 42.98%\n",
            "Epoch 24/100, Loss: 1.8649262625437517, Accuracy: 43.57%\n",
            "Epoch 25/100, Loss: 1.8583005440272313, Accuracy: 43.39%\n",
            "Epoch 26/100, Loss: 1.8482236203247693, Accuracy: 43.84%\n",
            "Epoch 27/100, Loss: 1.8412602569543894, Accuracy: 43.78%\n",
            "Epoch 28/100, Loss: 1.8335057729371125, Accuracy: 44.19%\n",
            "Epoch 29/100, Loss: 1.8268139127200458, Accuracy: 43.91%\n",
            "Epoch 30/100, Loss: 1.8193731816822427, Accuracy: 44.69%\n",
            "Epoch 31/100, Loss: 1.8137501422277111, Accuracy: 44.41%\n",
            "Epoch 32/100, Loss: 1.807163431853242, Accuracy: 45.05%\n",
            "Epoch 33/100, Loss: 1.800967492798262, Accuracy: 45.09%\n",
            "Epoch 34/100, Loss: 1.7954333180294464, Accuracy: 45.12%\n",
            "Epoch 35/100, Loss: 1.7894530735615632, Accuracy: 45.40%\n",
            "Epoch 36/100, Loss: 1.783793396519772, Accuracy: 45.31%\n",
            "Epoch 37/100, Loss: 1.7771592032079142, Accuracy: 45.93%\n",
            "Epoch 38/100, Loss: 1.7721615597574725, Accuracy: 46.10%\n",
            "Epoch 39/100, Loss: 1.7643598334983828, Accuracy: 46.26%\n",
            "Epoch 40/100, Loss: 1.76210951379146, Accuracy: 45.93%\n",
            "Epoch 41/100, Loss: 1.7585355701106997, Accuracy: 46.51%\n",
            "Epoch 42/100, Loss: 1.7509427357178469, Accuracy: 46.72%\n",
            "Epoch 43/100, Loss: 1.7506878345802024, Accuracy: 46.50%\n",
            "Epoch 44/100, Loss: 1.7443926508795942, Accuracy: 46.81%\n",
            "Epoch 45/100, Loss: 1.7388825147972284, Accuracy: 47.03%\n",
            "Epoch 46/100, Loss: 1.7345969368570064, Accuracy: 46.99%\n",
            "Epoch 47/100, Loss: 1.7292618746878947, Accuracy: 47.19%\n",
            "Epoch 48/100, Loss: 1.7269135044419097, Accuracy: 47.13%\n",
            "Epoch 49/100, Loss: 1.722364153844651, Accuracy: 47.21%\n",
            "Epoch 50/100, Loss: 1.7177190273659393, Accuracy: 47.31%\n",
            "Epoch 51/100, Loss: 1.716563596113308, Accuracy: 47.61%\n",
            "Epoch 52/100, Loss: 1.710988559432932, Accuracy: 47.74%\n",
            "Epoch 53/100, Loss: 1.7078350191304688, Accuracy: 47.85%\n",
            "Epoch 54/100, Loss: 1.7027837353954072, Accuracy: 48.35%\n",
            "Epoch 55/100, Loss: 1.7013480519554471, Accuracy: 47.75%\n",
            "Epoch 56/100, Loss: 1.6946814740986684, Accuracy: 48.31%\n",
            "Epoch 57/100, Loss: 1.6934087846327472, Accuracy: 48.07%\n",
            "Epoch 58/100, Loss: 1.6888220047504638, Accuracy: 48.27%\n",
            "Epoch 59/100, Loss: 1.6877938422864291, Accuracy: 48.14%\n",
            "Epoch 60/100, Loss: 1.6838354422495916, Accuracy: 48.22%\n",
            "Epoch 61/100, Loss: 1.6823043173910923, Accuracy: 48.42%\n",
            "Epoch 62/100, Loss: 1.6780048375813728, Accuracy: 48.55%\n",
            "Epoch 63/100, Loss: 1.6751476315289673, Accuracy: 48.43%\n",
            "Epoch 64/100, Loss: 1.673219370293642, Accuracy: 48.46%\n",
            "Epoch 65/100, Loss: 1.6711681320984497, Accuracy: 48.96%\n",
            "Epoch 66/100, Loss: 1.6661147849785316, Accuracy: 49.09%\n",
            "Epoch 67/100, Loss: 1.6631408403017665, Accuracy: 49.07%\n",
            "Epoch 68/100, Loss: 1.6610666649443195, Accuracy: 48.96%\n",
            "Epoch 69/100, Loss: 1.65981813321924, Accuracy: 49.00%\n",
            "Epoch 70/100, Loss: 1.655318077955697, Accuracy: 49.08%\n",
            "Epoch 71/100, Loss: 1.653935185898862, Accuracy: 49.03%\n",
            "Epoch 72/100, Loss: 1.650437243205346, Accuracy: 49.30%\n",
            "Epoch 73/100, Loss: 1.6478669330353797, Accuracy: 49.44%\n",
            "Epoch 74/100, Loss: 1.6444772443658597, Accuracy: 49.42%\n",
            "Epoch 75/100, Loss: 1.6434831170446536, Accuracy: 49.55%\n",
            "Epoch 76/100, Loss: 1.6399411605574237, Accuracy: 49.55%\n",
            "Epoch 77/100, Loss: 1.6407926791732872, Accuracy: 49.29%\n",
            "Epoch 78/100, Loss: 1.634258262023113, Accuracy: 49.68%\n",
            "Epoch 79/100, Loss: 1.6353747833853205, Accuracy: 49.77%\n",
            "Epoch 80/100, Loss: 1.6319490680761497, Accuracy: 49.76%\n",
            "Epoch 81/100, Loss: 1.6285962612211333, Accuracy: 49.68%\n",
            "Epoch 82/100, Loss: 1.6250972008940583, Accuracy: 49.69%\n",
            "Epoch 83/100, Loss: 1.6261276666872715, Accuracy: 49.99%\n",
            "Epoch 84/100, Loss: 1.624822573639499, Accuracy: 50.10%\n",
            "Epoch 85/100, Loss: 1.6193962226197773, Accuracy: 49.83%\n",
            "Epoch 86/100, Loss: 1.6196863032149427, Accuracy: 49.75%\n",
            "Epoch 87/100, Loss: 1.6185233007163862, Accuracy: 50.13%\n",
            "Epoch 88/100, Loss: 1.6151578849696568, Accuracy: 49.99%\n",
            "Epoch 89/100, Loss: 1.6103284619516245, Accuracy: 50.33%\n",
            "Epoch 90/100, Loss: 1.6094554928508964, Accuracy: 50.26%\n",
            "Epoch 91/100, Loss: 1.6089268799507197, Accuracy: 50.15%\n",
            "Epoch 92/100, Loss: 1.6086597780691239, Accuracy: 50.44%\n",
            "Epoch 93/100, Loss: 1.6057772498554599, Accuracy: 50.61%\n",
            "Epoch 94/100, Loss: 1.6049070591087649, Accuracy: 50.43%\n",
            "Epoch 95/100, Loss: 1.6014890248989861, Accuracy: 50.50%\n",
            "Epoch 96/100, Loss: 1.5982532766715405, Accuracy: 50.77%\n",
            "Epoch 97/100, Loss: 1.5975230813119368, Accuracy: 50.33%\n",
            "Epoch 98/100, Loss: 1.5959008775357149, Accuracy: 50.77%\n",
            "Epoch 99/100, Loss: 1.5953599936377234, Accuracy: 51.03%\n",
            "Epoch 100/100, Loss: 1.593355810258096, Accuracy: 50.69%\n",
            "Training took 94.95807194709778 seconds.\n"
          ]
        }
      ],
      "source": [
        "import torch\n",
        "import torch.nn as nn\n",
        "import torch.optim as optim\n",
        "from torch.utils.data import DataLoader, TensorDataset\n",
        "\n",
        "class FixedContextWindowFeedforward(nn.Module):\n",
        "    def __init__(self, input_size, hidden_size_1, hidden_size_2, output_size):\n",
        "        super(FixedContextWindowFeedforward, self).__init__()\n",
        "        self.fc1 = nn.Linear(input_size, hidden_size_1)\n",
        "        self.relu = nn.ReLU()\n",
        "        self.fc2 = nn.Linear(hidden_size_1, hidden_size_2)\n",
        "        self.relu = nn.ReLU()\n",
        "        self.fc3 = nn.Linear(hidden_size_2, output_size)\n",
        "\n",
        "    def forward(self, x):\n",
        "        x = self.fc1(x)\n",
        "        x = self.relu(x)\n",
        "        x = self.fc2(x)\n",
        "        x = self.relu(x)\n",
        "        x = self.fc3(x)\n",
        "        return x\n",
        "\n",
        "# Assuming you have a dataset and DataLoader for training and testing\n",
        "# Convert data to PyTorch tensors\n",
        "X_train_tensor = torch.tensor(X_train, dtype=torch.float)\n",
        "Y_train_tensor = torch.tensor(Y_train, dtype=torch.float)  # Assuming Y_train contains class indices\n",
        "X_test_tensor = torch.tensor(X_test, dtype=torch.float)\n",
        "Y_test_tensor = torch.tensor(Y_test, dtype=torch.float)\n",
        "\n",
        "# Create PyTorch datasets\n",
        "train_dataset = TensorDataset(X_train_tensor, Y_train_tensor)\n",
        "test_dataset = TensorDataset(X_test_tensor, Y_test_tensor)\n",
        "\n",
        "# Define parameters\n",
        "input_size = 320\n",
        "context_size = 10\n",
        "hidden_size_1 = 8\n",
        "hidden_size_2 = 128\n",
        "output_size = 32\n",
        "batch_size = 8\n",
        "num_epochs = 100\n",
        "\n",
        "# Define DataLoader\n",
        "train_loader = DataLoader(train_dataset, batch_size=batch_size, shuffle=True)\n",
        "test_loader = DataLoader(test_dataset, batch_size=batch_size, shuffle=False)\n",
        "\n",
        "# Define the model, loss function, and optimizer\n",
        "model = FixedContextWindowFeedforward(input_size, hidden_size_1, hidden_size_2, output_size)\n",
        "criterion = nn.CrossEntropyLoss()\n",
        "optimizer = optim.Adam(model.parameters(), lr=0.001)\n",
        "\n",
        "# Train the model over multiple epochs\n",
        "start_time = time.time()  # Record the start time\n",
        "for epoch in range(num_epochs):\n",
        "    total_loss = 0.0\n",
        "    total_correct = 0\n",
        "    total_samples = 0\n",
        "    model.train()  # Set the model to training mode\n",
        "\n",
        "    for batch_data, batch_labels in train_loader:\n",
        "        optimizer.zero_grad()  # Zero the gradients\n",
        "        outputs = model(batch_data)\n",
        "\n",
        "        # Calculate loss\n",
        "        loss = criterion(outputs, batch_labels)\n",
        "        loss.backward()  # Backward pass\n",
        "        optimizer.step()  # Update weights\n",
        "        total_loss += loss.item()\n",
        "\n",
        "        # Calculate accuracy\n",
        "        predicted_chars = torch.argmax(outputs, dim=1)\n",
        "        true_chars = torch.argmax(batch_labels, dim=1)\n",
        "\n",
        "        total_samples += batch_labels.size(0)\n",
        "        total_correct += (predicted_chars == true_chars).sum().item()\n",
        "\n",
        "    # Print training loss and accuracy\n",
        "    average_loss = total_loss / len(train_loader)\n",
        "    accuracy = total_correct / total_samples\n",
        "    print(f'Epoch {epoch + 1}/{num_epochs}, Loss: {average_loss}, Accuracy: {accuracy * 100:.2f}%')\n",
        "\n",
        "# Get training time\n",
        "end_time = time.time()  # Record the end time\n",
        "elapsed_time = end_time - start_time\n",
        "print(f'Training took {elapsed_time} seconds.')\n",
        "\n",
        "# Save the trained model\n",
        "torch.save(model.state_dict(), 'char_ffn.pth')"
      ]
    },
    {
      "cell_type": "code",
      "execution_count": 10,
      "id": "7b401537",
      "metadata": {},
      "outputs": [
        {
          "name": "stdout",
          "output_type": "stream",
          "text": [
            "Test Accuracy: 40.64%\n"
          ]
        }
      ],
      "source": [
        "# Load the model back\n",
        "model = FixedContextWindowFeedforward(input_size, hidden_size_1, hidden_size_2, output_size)\n",
        "model.load_state_dict(torch.load('char_ffn.pth'))\n",
        "model.eval()  # Set the model to evaluation mode\n",
        "\n",
        "# Test the model\n",
        "test_loss = 0.0\n",
        "total_samples = 0\n",
        "correct_predictions = 0\n",
        "\n",
        "with torch.no_grad():\n",
        "    for test_data, test_labels in test_loader:\n",
        "        # Calculate loss\n",
        "        test_outputs = model(test_data)\n",
        "        test_loss += criterion(test_outputs, test_labels).item()\n",
        "        \n",
        "        # Calculate accuracy\n",
        "        predicted_chars = torch.argmax(test_outputs, dim=1)\n",
        "        true_chars = torch.argmax(test_labels, dim=1)\n",
        "\n",
        "        total_samples += test_labels.size(0)\n",
        "        correct_predictions += (predicted_chars == true_chars).sum().item()\n",
        "        \n",
        "# Calculate accuracy\n",
        "test_accuracy = correct_predictions / total_samples\n",
        "average_test_loss = test_loss / len(test_loader)\n",
        "print(f'Test Accuracy: {test_accuracy * 100:.2f}%')"
      ]
    },
    {
      "cell_type": "code",
      "execution_count": null,
      "id": "ad8873e7-d9a1-4406-88be-74a503c89b1c",
      "metadata": {
        "id": "ad8873e7-d9a1-4406-88be-74a503c89b1c"
      },
      "outputs": [],
      "source": []
    }
  ],
  "metadata": {
    "accelerator": "GPU",
    "colab": {
      "gpuType": "T4",
      "provenance": []
    },
    "kernelspec": {
      "display_name": "Python 3",
      "name": "python3"
    },
    "language_info": {
      "codemirror_mode": {
        "name": "ipython",
        "version": 3
      },
      "file_extension": ".py",
      "mimetype": "text/x-python",
      "name": "python",
      "nbconvert_exporter": "python",
      "pygments_lexer": "ipython3",
      "version": "3.11.4"
    }
  },
  "nbformat": 4,
  "nbformat_minor": 5
}
